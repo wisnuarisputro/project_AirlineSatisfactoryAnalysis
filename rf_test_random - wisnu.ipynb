{
 "cells": [
  {
   "cell_type": "code",
   "execution_count": 1,
   "metadata": {},
   "outputs": [],
   "source": [
    "import pandas as pd\n",
    "import numpy as np\n",
    "import seaborn as sns\n",
    "import matplotlib.pyplot as plt\n",
    "\n",
    "import warnings\n",
    "warnings.filterwarnings('ignore')"
   ]
  },
  {
   "cell_type": "code",
   "execution_count": 2,
   "metadata": {},
   "outputs": [],
   "source": [
    "from sklearn.metrics import accuracy_score, precision_score, recall_score, f1_score\n",
    "from sklearn.metrics import roc_curve, auc\n",
    "\n",
    "def eval_classification(model, pred, X_train, y_train, X_test, y_test):\n",
    "    print(\"Accuracy (Test Set): %.2f\" % accuracy_score(y_test, pred))\n",
    "    print(\"Precision (Test Set): %.2f\" % precision_score(y_test, pred))\n",
    "    print(\"Recall (Test Set): %.2f\" % recall_score(y_test, pred))\n",
    "    print(\"F1-Score (Test Set): %.2f\" % f1_score(y_test, pred))\n",
    "    \n",
    "    fpr, tpr, thresholds = roc_curve(y_test, pred, pos_label=1) # pos_label: label yang kita anggap positive\n",
    "    print(\"AUC: %.2f\" % auc(fpr, tpr))\n",
    "\n",
    "def show_feature_importance(model):\n",
    "    feat_importances = pd.Series(model.feature_importances_, index=X.columns)\n",
    "    ax = feat_importances.nlargest(25).plot(kind='barh', figsize=(10, 8))\n",
    "    ax.invert_yaxis()\n",
    "\n",
    "    plt.xlabel('score')\n",
    "    plt.ylabel('feature')\n",
    "    plt.title('feature importance score')\n",
    "\n",
    "def show_best_hyperparameter(model, hyperparameters):\n",
    "    for key, value in hyperparameters.items() :\n",
    "        print('Best '+key+':', model.get_params()[key])"
   ]
  },
  {
   "cell_type": "code",
   "execution_count": 3,
   "metadata": {},
   "outputs": [
    {
     "data": {
      "text/html": [
       "<div>\n",
       "<style scoped>\n",
       "    .dataframe tbody tr th:only-of-type {\n",
       "        vertical-align: middle;\n",
       "    }\n",
       "\n",
       "    .dataframe tbody tr th {\n",
       "        vertical-align: top;\n",
       "    }\n",
       "\n",
       "    .dataframe thead th {\n",
       "        text-align: right;\n",
       "    }\n",
       "</style>\n",
       "<table border=\"1\" class=\"dataframe\">\n",
       "  <thead>\n",
       "    <tr style=\"text-align: right;\">\n",
       "      <th></th>\n",
       "      <th>satisfaction</th>\n",
       "      <th>Gender</th>\n",
       "      <th>Customer Type</th>\n",
       "      <th>Age</th>\n",
       "      <th>Type of Travel</th>\n",
       "      <th>Class</th>\n",
       "      <th>Flight Distance</th>\n",
       "      <th>Seat comfort</th>\n",
       "      <th>Departure/Arrival time convenient</th>\n",
       "      <th>Food and drink</th>\n",
       "      <th>...</th>\n",
       "      <th>Online support</th>\n",
       "      <th>Ease of Online booking</th>\n",
       "      <th>On-board service</th>\n",
       "      <th>Leg room service</th>\n",
       "      <th>Baggage handling</th>\n",
       "      <th>Checkin service</th>\n",
       "      <th>Cleanliness</th>\n",
       "      <th>Online boarding</th>\n",
       "      <th>Departure Delay in Minutes</th>\n",
       "      <th>Arrival Delay in Minutes</th>\n",
       "    </tr>\n",
       "  </thead>\n",
       "  <tbody>\n",
       "    <tr>\n",
       "      <th>0</th>\n",
       "      <td>satisfied</td>\n",
       "      <td>Female</td>\n",
       "      <td>Loyal Customer</td>\n",
       "      <td>65</td>\n",
       "      <td>Personal Travel</td>\n",
       "      <td>Eco</td>\n",
       "      <td>265</td>\n",
       "      <td>0</td>\n",
       "      <td>0</td>\n",
       "      <td>0</td>\n",
       "      <td>...</td>\n",
       "      <td>2</td>\n",
       "      <td>3</td>\n",
       "      <td>3</td>\n",
       "      <td>0</td>\n",
       "      <td>3</td>\n",
       "      <td>5</td>\n",
       "      <td>3</td>\n",
       "      <td>2</td>\n",
       "      <td>0</td>\n",
       "      <td>0.0</td>\n",
       "    </tr>\n",
       "    <tr>\n",
       "      <th>1</th>\n",
       "      <td>satisfied</td>\n",
       "      <td>Male</td>\n",
       "      <td>Loyal Customer</td>\n",
       "      <td>47</td>\n",
       "      <td>Personal Travel</td>\n",
       "      <td>Business</td>\n",
       "      <td>2464</td>\n",
       "      <td>0</td>\n",
       "      <td>0</td>\n",
       "      <td>0</td>\n",
       "      <td>...</td>\n",
       "      <td>2</td>\n",
       "      <td>3</td>\n",
       "      <td>4</td>\n",
       "      <td>4</td>\n",
       "      <td>4</td>\n",
       "      <td>2</td>\n",
       "      <td>3</td>\n",
       "      <td>2</td>\n",
       "      <td>310</td>\n",
       "      <td>305.0</td>\n",
       "    </tr>\n",
       "    <tr>\n",
       "      <th>2</th>\n",
       "      <td>satisfied</td>\n",
       "      <td>Female</td>\n",
       "      <td>Loyal Customer</td>\n",
       "      <td>15</td>\n",
       "      <td>Personal Travel</td>\n",
       "      <td>Eco</td>\n",
       "      <td>2138</td>\n",
       "      <td>0</td>\n",
       "      <td>0</td>\n",
       "      <td>0</td>\n",
       "      <td>...</td>\n",
       "      <td>2</td>\n",
       "      <td>2</td>\n",
       "      <td>3</td>\n",
       "      <td>3</td>\n",
       "      <td>4</td>\n",
       "      <td>4</td>\n",
       "      <td>4</td>\n",
       "      <td>2</td>\n",
       "      <td>0</td>\n",
       "      <td>0.0</td>\n",
       "    </tr>\n",
       "    <tr>\n",
       "      <th>3</th>\n",
       "      <td>satisfied</td>\n",
       "      <td>Female</td>\n",
       "      <td>Loyal Customer</td>\n",
       "      <td>60</td>\n",
       "      <td>Personal Travel</td>\n",
       "      <td>Eco</td>\n",
       "      <td>623</td>\n",
       "      <td>0</td>\n",
       "      <td>0</td>\n",
       "      <td>0</td>\n",
       "      <td>...</td>\n",
       "      <td>3</td>\n",
       "      <td>1</td>\n",
       "      <td>1</td>\n",
       "      <td>0</td>\n",
       "      <td>1</td>\n",
       "      <td>4</td>\n",
       "      <td>1</td>\n",
       "      <td>3</td>\n",
       "      <td>0</td>\n",
       "      <td>0.0</td>\n",
       "    </tr>\n",
       "    <tr>\n",
       "      <th>4</th>\n",
       "      <td>satisfied</td>\n",
       "      <td>Female</td>\n",
       "      <td>Loyal Customer</td>\n",
       "      <td>70</td>\n",
       "      <td>Personal Travel</td>\n",
       "      <td>Eco</td>\n",
       "      <td>354</td>\n",
       "      <td>0</td>\n",
       "      <td>0</td>\n",
       "      <td>0</td>\n",
       "      <td>...</td>\n",
       "      <td>4</td>\n",
       "      <td>2</td>\n",
       "      <td>2</td>\n",
       "      <td>0</td>\n",
       "      <td>2</td>\n",
       "      <td>4</td>\n",
       "      <td>2</td>\n",
       "      <td>5</td>\n",
       "      <td>0</td>\n",
       "      <td>0.0</td>\n",
       "    </tr>\n",
       "  </tbody>\n",
       "</table>\n",
       "<p>5 rows × 23 columns</p>\n",
       "</div>"
      ],
      "text/plain": [
       "  satisfaction  Gender   Customer Type  Age   Type of Travel     Class  \\\n",
       "0    satisfied  Female  Loyal Customer   65  Personal Travel       Eco   \n",
       "1    satisfied    Male  Loyal Customer   47  Personal Travel  Business   \n",
       "2    satisfied  Female  Loyal Customer   15  Personal Travel       Eco   \n",
       "3    satisfied  Female  Loyal Customer   60  Personal Travel       Eco   \n",
       "4    satisfied  Female  Loyal Customer   70  Personal Travel       Eco   \n",
       "\n",
       "   Flight Distance  Seat comfort  Departure/Arrival time convenient  \\\n",
       "0              265             0                                  0   \n",
       "1             2464             0                                  0   \n",
       "2             2138             0                                  0   \n",
       "3              623             0                                  0   \n",
       "4              354             0                                  0   \n",
       "\n",
       "   Food and drink  ...  Online support  Ease of Online booking  \\\n",
       "0               0  ...               2                       3   \n",
       "1               0  ...               2                       3   \n",
       "2               0  ...               2                       2   \n",
       "3               0  ...               3                       1   \n",
       "4               0  ...               4                       2   \n",
       "\n",
       "   On-board service  Leg room service  Baggage handling  Checkin service  \\\n",
       "0                 3                 0                 3                5   \n",
       "1                 4                 4                 4                2   \n",
       "2                 3                 3                 4                4   \n",
       "3                 1                 0                 1                4   \n",
       "4                 2                 0                 2                4   \n",
       "\n",
       "   Cleanliness  Online boarding  Departure Delay in Minutes  \\\n",
       "0            3                2                           0   \n",
       "1            3                2                         310   \n",
       "2            4                2                           0   \n",
       "3            1                3                           0   \n",
       "4            2                5                           0   \n",
       "\n",
       "   Arrival Delay in Minutes  \n",
       "0                       0.0  \n",
       "1                     305.0  \n",
       "2                       0.0  \n",
       "3                       0.0  \n",
       "4                       0.0  \n",
       "\n",
       "[5 rows x 23 columns]"
      ]
     },
     "execution_count": 3,
     "metadata": {},
     "output_type": "execute_result"
    }
   ],
   "source": [
    "df_cust_airlines = pd.read_csv('Invistico_Airline.csv', sep=',')\n",
    "df_cust_airlines.head()"
   ]
  },
  {
   "cell_type": "markdown",
   "metadata": {},
   "source": [
    "# Data Preprocessing"
   ]
  },
  {
   "cell_type": "code",
   "execution_count": 4,
   "metadata": {},
   "outputs": [],
   "source": [
    "df_cust_airlines_copy_1 = df_cust_airlines.copy() #ini onehot encoding\n",
    "df_cust_airlines_encode = df_cust_airlines.copy() #ini encoding biasa"
   ]
  },
  {
   "cell_type": "code",
   "execution_count": 5,
   "metadata": {},
   "outputs": [
    {
     "name": "stdout",
     "output_type": "stream",
     "text": [
      "Jumlah baris sebelum memfilter outlier: 129880\n",
      "Jumlah baris setelah memfilter outlier: 129050\n"
     ]
    }
   ],
   "source": [
    "from scipy import stats\n",
    "print(f'Jumlah baris sebelum memfilter outlier: {len(df_cust_airlines_encode)}')\n",
    "\n",
    "filtered_entries = np.array([True] * len(df_cust_airlines_encode))\n",
    "for col in ['Flight Distance']:\n",
    "    zscore = abs(stats.zscore(df_cust_airlines_encode[col]))\n",
    "    filtered_entries = (zscore < 3) & filtered_entries\n",
    "    \n",
    "df_cust_airlines_encode = df_cust_airlines_encode[filtered_entries]\n",
    "\n",
    "print(f'Jumlah baris setelah memfilter outlier: {len(df_cust_airlines_encode)}')"
   ]
  },
  {
   "cell_type": "code",
   "execution_count": 6,
   "metadata": {},
   "outputs": [],
   "source": [
    "df_cust_airlines_encode['Departure Delay in Minutes'] = df_cust_airlines_encode['Departure Delay in Minutes'].apply(lambda x: 1 if x > 0  else 0) # 1 sama dengan telat\n",
    "df_cust_airlines_encode['Arrival Delay in Minutes'] = df_cust_airlines_encode['Arrival Delay in Minutes'].apply(lambda x: 1 if x > 0  else 0) # 1 sama dengan telat"
   ]
  },
  {
   "cell_type": "code",
   "execution_count": 7,
   "metadata": {},
   "outputs": [],
   "source": [
    "data_encod_satisfaction=pd.get_dummies(df_cust_airlines_encode['satisfaction'], prefix='Yes')\n",
    "data_encod_gender=pd.get_dummies(df_cust_airlines_encode['Gender'], prefix='Gender')\n",
    "data_encod_cust_type=pd.get_dummies(df_cust_airlines_encode['Customer Type'], prefix='Type')\n",
    "data_encod_travel_type=pd.get_dummies(df_cust_airlines_encode['Type of Travel'], prefix='Yes')\n",
    "data_encod_class=pd.get_dummies(df_cust_airlines_encode['Class'],prefix = 'Class')"
   ]
  },
  {
   "cell_type": "code",
   "execution_count": 8,
   "metadata": {},
   "outputs": [],
   "source": [
    "onehot_data = pd.concat([df_cust_airlines_encode, data_encod_satisfaction, data_encod_gender, data_encod_cust_type, data_encod_travel_type, data_encod_class], axis = 1)"
   ]
  },
  {
   "cell_type": "code",
   "execution_count": 9,
   "metadata": {},
   "outputs": [],
   "source": [
    "df_cust_airlines_encode['Arrival Delay in Minutes'] = df_cust_airlines_encode['Arrival Delay in Minutes'].fillna(df_cust_airlines_encode['Arrival Delay in Minutes'].median())  "
   ]
  },
  {
   "cell_type": "code",
   "execution_count": 10,
   "metadata": {},
   "outputs": [],
   "source": [
    "df_cust_airlines_copy_1['Arrival Delay in Minutes'] = df_cust_airlines_copy_1['Arrival Delay in Minutes'].fillna(df_cust_airlines_copy_1['Arrival Delay in Minutes'].median())  "
   ]
  },
  {
   "cell_type": "code",
   "execution_count": 11,
   "metadata": {},
   "outputs": [
    {
     "name": "stdout",
     "output_type": "stream",
     "text": [
      "Jumlah baris sebelum memfilter outlier: 129880\n",
      "Jumlah baris setelah memfilter outlier: 129050\n"
     ]
    }
   ],
   "source": [
    "from scipy import stats\n",
    "print(f'Jumlah baris sebelum memfilter outlier: {len(df_cust_airlines_copy_1)}')\n",
    "\n",
    "filtered_entries = np.array([True] * len(df_cust_airlines_copy_1))\n",
    "for col in ['Flight Distance']:\n",
    "    zscore = abs(stats.zscore(df_cust_airlines_copy_1[col]))\n",
    "    filtered_entries = (zscore < 3) & filtered_entries\n",
    "    \n",
    "df_cust_airlines_copy_1 = df_cust_airlines_copy_1[filtered_entries]\n",
    "\n",
    "print(f'Jumlah baris setelah memfilter outlier: {len(df_cust_airlines_copy_1)}')"
   ]
  },
  {
   "cell_type": "code",
   "execution_count": 12,
   "metadata": {},
   "outputs": [],
   "source": [
    "df_cust_airlines_copy_1['Departure Delay in Minutes'] = df_cust_airlines_copy_1['Departure Delay in Minutes'].apply(lambda x: 1 if x > 0  else 0) # 1 sama dengan telat\n",
    "df_cust_airlines_copy_1['Arrival Delay in Minutes'] = df_cust_airlines_copy_1['Arrival Delay in Minutes'].apply(lambda x: 1 if x > 0  else 0) # 1 sama dengan telat"
   ]
  },
  {
   "cell_type": "markdown",
   "metadata": {},
   "source": [
    "# One-Hot Encoding"
   ]
  },
  {
   "cell_type": "code",
   "execution_count": 13,
   "metadata": {},
   "outputs": [],
   "source": [
    "data_encod_satisfaction=pd.get_dummies(df_cust_airlines_copy_1['satisfaction'], prefix='Yes')\n",
    "data_encod_gender=pd.get_dummies(df_cust_airlines_copy_1['Gender'], prefix='Gender')\n",
    "data_encod_cust_type=pd.get_dummies(df_cust_airlines_copy_1['Customer Type'], prefix='Type')\n",
    "data_encod_travel_type=pd.get_dummies(df_cust_airlines_copy_1['Type of Travel'], prefix='Yes')\n",
    "data_encod_class=pd.get_dummies(df_cust_airlines_copy_1['Class'],prefix = 'Class')"
   ]
  },
  {
   "cell_type": "code",
   "execution_count": 14,
   "metadata": {},
   "outputs": [],
   "source": [
    "onehot_data = pd.concat([df_cust_airlines_copy_1, data_encod_satisfaction, data_encod_gender, data_encod_cust_type, data_encod_travel_type, data_encod_class], axis = 1)"
   ]
  },
  {
   "cell_type": "code",
   "execution_count": 15,
   "metadata": {},
   "outputs": [
    {
     "data": {
      "text/html": [
       "<div>\n",
       "<style scoped>\n",
       "    .dataframe tbody tr th:only-of-type {\n",
       "        vertical-align: middle;\n",
       "    }\n",
       "\n",
       "    .dataframe tbody tr th {\n",
       "        vertical-align: top;\n",
       "    }\n",
       "\n",
       "    .dataframe thead th {\n",
       "        text-align: right;\n",
       "    }\n",
       "</style>\n",
       "<table border=\"1\" class=\"dataframe\">\n",
       "  <thead>\n",
       "    <tr style=\"text-align: right;\">\n",
       "      <th></th>\n",
       "      <th>satisfaction</th>\n",
       "      <th>Gender</th>\n",
       "      <th>Customer Type</th>\n",
       "      <th>Age</th>\n",
       "      <th>Type of Travel</th>\n",
       "      <th>Class</th>\n",
       "      <th>Flight Distance</th>\n",
       "      <th>Seat comfort</th>\n",
       "      <th>Departure/Arrival time convenient</th>\n",
       "      <th>Food and drink</th>\n",
       "      <th>...</th>\n",
       "      <th>Gender_Male</th>\n",
       "      <th>Type_Loyal Customer</th>\n",
       "      <th>Type_disloyal Customer</th>\n",
       "      <th>Yes_Business travel</th>\n",
       "      <th>Yes_Personal Travel</th>\n",
       "      <th>Class_Business</th>\n",
       "      <th>Class_Eco</th>\n",
       "      <th>Class_Eco Plus</th>\n",
       "      <th>satisfaction_encode</th>\n",
       "      <th>gender_encode</th>\n",
       "    </tr>\n",
       "  </thead>\n",
       "  <tbody>\n",
       "    <tr>\n",
       "      <th>0</th>\n",
       "      <td>satisfied</td>\n",
       "      <td>Female</td>\n",
       "      <td>Loyal Customer</td>\n",
       "      <td>65</td>\n",
       "      <td>Personal Travel</td>\n",
       "      <td>Eco</td>\n",
       "      <td>265</td>\n",
       "      <td>0</td>\n",
       "      <td>0</td>\n",
       "      <td>0</td>\n",
       "      <td>...</td>\n",
       "      <td>0</td>\n",
       "      <td>1</td>\n",
       "      <td>0</td>\n",
       "      <td>0</td>\n",
       "      <td>1</td>\n",
       "      <td>0</td>\n",
       "      <td>1</td>\n",
       "      <td>0</td>\n",
       "      <td>1</td>\n",
       "      <td>0</td>\n",
       "    </tr>\n",
       "    <tr>\n",
       "      <th>1</th>\n",
       "      <td>satisfied</td>\n",
       "      <td>Male</td>\n",
       "      <td>Loyal Customer</td>\n",
       "      <td>47</td>\n",
       "      <td>Personal Travel</td>\n",
       "      <td>Business</td>\n",
       "      <td>2464</td>\n",
       "      <td>0</td>\n",
       "      <td>0</td>\n",
       "      <td>0</td>\n",
       "      <td>...</td>\n",
       "      <td>1</td>\n",
       "      <td>1</td>\n",
       "      <td>0</td>\n",
       "      <td>0</td>\n",
       "      <td>1</td>\n",
       "      <td>1</td>\n",
       "      <td>0</td>\n",
       "      <td>0</td>\n",
       "      <td>1</td>\n",
       "      <td>1</td>\n",
       "    </tr>\n",
       "    <tr>\n",
       "      <th>2</th>\n",
       "      <td>satisfied</td>\n",
       "      <td>Female</td>\n",
       "      <td>Loyal Customer</td>\n",
       "      <td>15</td>\n",
       "      <td>Personal Travel</td>\n",
       "      <td>Eco</td>\n",
       "      <td>2138</td>\n",
       "      <td>0</td>\n",
       "      <td>0</td>\n",
       "      <td>0</td>\n",
       "      <td>...</td>\n",
       "      <td>0</td>\n",
       "      <td>1</td>\n",
       "      <td>0</td>\n",
       "      <td>0</td>\n",
       "      <td>1</td>\n",
       "      <td>0</td>\n",
       "      <td>1</td>\n",
       "      <td>0</td>\n",
       "      <td>1</td>\n",
       "      <td>0</td>\n",
       "    </tr>\n",
       "    <tr>\n",
       "      <th>3</th>\n",
       "      <td>satisfied</td>\n",
       "      <td>Female</td>\n",
       "      <td>Loyal Customer</td>\n",
       "      <td>60</td>\n",
       "      <td>Personal Travel</td>\n",
       "      <td>Eco</td>\n",
       "      <td>623</td>\n",
       "      <td>0</td>\n",
       "      <td>0</td>\n",
       "      <td>0</td>\n",
       "      <td>...</td>\n",
       "      <td>0</td>\n",
       "      <td>1</td>\n",
       "      <td>0</td>\n",
       "      <td>0</td>\n",
       "      <td>1</td>\n",
       "      <td>0</td>\n",
       "      <td>1</td>\n",
       "      <td>0</td>\n",
       "      <td>1</td>\n",
       "      <td>0</td>\n",
       "    </tr>\n",
       "    <tr>\n",
       "      <th>4</th>\n",
       "      <td>satisfied</td>\n",
       "      <td>Female</td>\n",
       "      <td>Loyal Customer</td>\n",
       "      <td>70</td>\n",
       "      <td>Personal Travel</td>\n",
       "      <td>Eco</td>\n",
       "      <td>354</td>\n",
       "      <td>0</td>\n",
       "      <td>0</td>\n",
       "      <td>0</td>\n",
       "      <td>...</td>\n",
       "      <td>0</td>\n",
       "      <td>1</td>\n",
       "      <td>0</td>\n",
       "      <td>0</td>\n",
       "      <td>1</td>\n",
       "      <td>0</td>\n",
       "      <td>1</td>\n",
       "      <td>0</td>\n",
       "      <td>1</td>\n",
       "      <td>0</td>\n",
       "    </tr>\n",
       "  </tbody>\n",
       "</table>\n",
       "<p>5 rows × 36 columns</p>\n",
       "</div>"
      ],
      "text/plain": [
       "  satisfaction  Gender   Customer Type  Age   Type of Travel     Class  \\\n",
       "0    satisfied  Female  Loyal Customer   65  Personal Travel       Eco   \n",
       "1    satisfied    Male  Loyal Customer   47  Personal Travel  Business   \n",
       "2    satisfied  Female  Loyal Customer   15  Personal Travel       Eco   \n",
       "3    satisfied  Female  Loyal Customer   60  Personal Travel       Eco   \n",
       "4    satisfied  Female  Loyal Customer   70  Personal Travel       Eco   \n",
       "\n",
       "   Flight Distance  Seat comfort  Departure/Arrival time convenient  \\\n",
       "0              265             0                                  0   \n",
       "1             2464             0                                  0   \n",
       "2             2138             0                                  0   \n",
       "3              623             0                                  0   \n",
       "4              354             0                                  0   \n",
       "\n",
       "   Food and drink  ...  Gender_Male  Type_Loyal Customer  \\\n",
       "0               0  ...            0                    1   \n",
       "1               0  ...            1                    1   \n",
       "2               0  ...            0                    1   \n",
       "3               0  ...            0                    1   \n",
       "4               0  ...            0                    1   \n",
       "\n",
       "   Type_disloyal Customer  Yes_Business travel  Yes_Personal Travel  \\\n",
       "0                       0                    0                    1   \n",
       "1                       0                    0                    1   \n",
       "2                       0                    0                    1   \n",
       "3                       0                    0                    1   \n",
       "4                       0                    0                    1   \n",
       "\n",
       "   Class_Business  Class_Eco  Class_Eco Plus  satisfaction_encode  \\\n",
       "0               0          1               0                    1   \n",
       "1               1          0               0                    1   \n",
       "2               0          1               0                    1   \n",
       "3               0          1               0                    1   \n",
       "4               0          1               0                    1   \n",
       "\n",
       "   gender_encode  \n",
       "0              0  \n",
       "1              1  \n",
       "2              0  \n",
       "3              0  \n",
       "4              0  \n",
       "\n",
       "[5 rows x 36 columns]"
      ]
     },
     "execution_count": 15,
     "metadata": {},
     "output_type": "execute_result"
    }
   ],
   "source": [
    "df_cust_airlines_encode = onehot_data.copy()\n",
    "df_cust_airlines_encode['satisfaction_encode'] = df_cust_airlines_encode['satisfaction'].apply(lambda x: 1 if x == 'satisfied'  else 0) # 1 sama dengan satisfied\n",
    "df_cust_airlines_encode['gender_encode'] = df_cust_airlines_encode['Gender'].apply(lambda x: 1 if x == 'Male'  else 0) # 1 sama dengan laki-laki\n",
    "df_cust_airlines_encode.reset_index(drop=True).head()"
   ]
  },
  {
   "cell_type": "markdown",
   "metadata": {},
   "source": [
    "# Modelling"
   ]
  },
  {
   "cell_type": "code",
   "execution_count": 16,
   "metadata": {},
   "outputs": [
    {
     "data": {
      "text/html": [
       "<div>\n",
       "<style scoped>\n",
       "    .dataframe tbody tr th:only-of-type {\n",
       "        vertical-align: middle;\n",
       "    }\n",
       "\n",
       "    .dataframe tbody tr th {\n",
       "        vertical-align: top;\n",
       "    }\n",
       "\n",
       "    .dataframe thead th {\n",
       "        text-align: right;\n",
       "    }\n",
       "</style>\n",
       "<table border=\"1\" class=\"dataframe\">\n",
       "  <thead>\n",
       "    <tr style=\"text-align: right;\">\n",
       "      <th></th>\n",
       "      <th>satisfaction</th>\n",
       "      <th>Gender</th>\n",
       "      <th>Customer Type</th>\n",
       "      <th>Age</th>\n",
       "      <th>Type of Travel</th>\n",
       "      <th>Class</th>\n",
       "      <th>Flight Distance</th>\n",
       "      <th>Seat comfort</th>\n",
       "      <th>Departure/Arrival time convenient</th>\n",
       "      <th>Food and drink</th>\n",
       "      <th>...</th>\n",
       "      <th>Gender_Male</th>\n",
       "      <th>Type_Loyal Customer</th>\n",
       "      <th>Type_disloyal Customer</th>\n",
       "      <th>Yes_Business travel</th>\n",
       "      <th>Yes_Personal Travel</th>\n",
       "      <th>Class_Business</th>\n",
       "      <th>Class_Eco</th>\n",
       "      <th>Class_Eco Plus</th>\n",
       "      <th>satisfaction_encode</th>\n",
       "      <th>gender_encode</th>\n",
       "    </tr>\n",
       "  </thead>\n",
       "  <tbody>\n",
       "    <tr>\n",
       "      <th>0</th>\n",
       "      <td>satisfied</td>\n",
       "      <td>Female</td>\n",
       "      <td>Loyal Customer</td>\n",
       "      <td>65</td>\n",
       "      <td>Personal Travel</td>\n",
       "      <td>Eco</td>\n",
       "      <td>265</td>\n",
       "      <td>0</td>\n",
       "      <td>0</td>\n",
       "      <td>0</td>\n",
       "      <td>...</td>\n",
       "      <td>0</td>\n",
       "      <td>1</td>\n",
       "      <td>0</td>\n",
       "      <td>0</td>\n",
       "      <td>1</td>\n",
       "      <td>0</td>\n",
       "      <td>1</td>\n",
       "      <td>0</td>\n",
       "      <td>1</td>\n",
       "      <td>0</td>\n",
       "    </tr>\n",
       "    <tr>\n",
       "      <th>1</th>\n",
       "      <td>satisfied</td>\n",
       "      <td>Male</td>\n",
       "      <td>Loyal Customer</td>\n",
       "      <td>47</td>\n",
       "      <td>Personal Travel</td>\n",
       "      <td>Business</td>\n",
       "      <td>2464</td>\n",
       "      <td>0</td>\n",
       "      <td>0</td>\n",
       "      <td>0</td>\n",
       "      <td>...</td>\n",
       "      <td>1</td>\n",
       "      <td>1</td>\n",
       "      <td>0</td>\n",
       "      <td>0</td>\n",
       "      <td>1</td>\n",
       "      <td>1</td>\n",
       "      <td>0</td>\n",
       "      <td>0</td>\n",
       "      <td>1</td>\n",
       "      <td>1</td>\n",
       "    </tr>\n",
       "    <tr>\n",
       "      <th>2</th>\n",
       "      <td>satisfied</td>\n",
       "      <td>Female</td>\n",
       "      <td>Loyal Customer</td>\n",
       "      <td>15</td>\n",
       "      <td>Personal Travel</td>\n",
       "      <td>Eco</td>\n",
       "      <td>2138</td>\n",
       "      <td>0</td>\n",
       "      <td>0</td>\n",
       "      <td>0</td>\n",
       "      <td>...</td>\n",
       "      <td>0</td>\n",
       "      <td>1</td>\n",
       "      <td>0</td>\n",
       "      <td>0</td>\n",
       "      <td>1</td>\n",
       "      <td>0</td>\n",
       "      <td>1</td>\n",
       "      <td>0</td>\n",
       "      <td>1</td>\n",
       "      <td>0</td>\n",
       "    </tr>\n",
       "    <tr>\n",
       "      <th>3</th>\n",
       "      <td>satisfied</td>\n",
       "      <td>Female</td>\n",
       "      <td>Loyal Customer</td>\n",
       "      <td>60</td>\n",
       "      <td>Personal Travel</td>\n",
       "      <td>Eco</td>\n",
       "      <td>623</td>\n",
       "      <td>0</td>\n",
       "      <td>0</td>\n",
       "      <td>0</td>\n",
       "      <td>...</td>\n",
       "      <td>0</td>\n",
       "      <td>1</td>\n",
       "      <td>0</td>\n",
       "      <td>0</td>\n",
       "      <td>1</td>\n",
       "      <td>0</td>\n",
       "      <td>1</td>\n",
       "      <td>0</td>\n",
       "      <td>1</td>\n",
       "      <td>0</td>\n",
       "    </tr>\n",
       "    <tr>\n",
       "      <th>4</th>\n",
       "      <td>satisfied</td>\n",
       "      <td>Female</td>\n",
       "      <td>Loyal Customer</td>\n",
       "      <td>70</td>\n",
       "      <td>Personal Travel</td>\n",
       "      <td>Eco</td>\n",
       "      <td>354</td>\n",
       "      <td>0</td>\n",
       "      <td>0</td>\n",
       "      <td>0</td>\n",
       "      <td>...</td>\n",
       "      <td>0</td>\n",
       "      <td>1</td>\n",
       "      <td>0</td>\n",
       "      <td>0</td>\n",
       "      <td>1</td>\n",
       "      <td>0</td>\n",
       "      <td>1</td>\n",
       "      <td>0</td>\n",
       "      <td>1</td>\n",
       "      <td>0</td>\n",
       "    </tr>\n",
       "  </tbody>\n",
       "</table>\n",
       "<p>5 rows × 36 columns</p>\n",
       "</div>"
      ],
      "text/plain": [
       "  satisfaction  Gender   Customer Type  Age   Type of Travel     Class  \\\n",
       "0    satisfied  Female  Loyal Customer   65  Personal Travel       Eco   \n",
       "1    satisfied    Male  Loyal Customer   47  Personal Travel  Business   \n",
       "2    satisfied  Female  Loyal Customer   15  Personal Travel       Eco   \n",
       "3    satisfied  Female  Loyal Customer   60  Personal Travel       Eco   \n",
       "4    satisfied  Female  Loyal Customer   70  Personal Travel       Eco   \n",
       "\n",
       "   Flight Distance  Seat comfort  Departure/Arrival time convenient  \\\n",
       "0              265             0                                  0   \n",
       "1             2464             0                                  0   \n",
       "2             2138             0                                  0   \n",
       "3              623             0                                  0   \n",
       "4              354             0                                  0   \n",
       "\n",
       "   Food and drink  ...  Gender_Male  Type_Loyal Customer  \\\n",
       "0               0  ...            0                    1   \n",
       "1               0  ...            1                    1   \n",
       "2               0  ...            0                    1   \n",
       "3               0  ...            0                    1   \n",
       "4               0  ...            0                    1   \n",
       "\n",
       "   Type_disloyal Customer  Yes_Business travel  Yes_Personal Travel  \\\n",
       "0                       0                    0                    1   \n",
       "1                       0                    0                    1   \n",
       "2                       0                    0                    1   \n",
       "3                       0                    0                    1   \n",
       "4                       0                    0                    1   \n",
       "\n",
       "   Class_Business  Class_Eco  Class_Eco Plus  satisfaction_encode  \\\n",
       "0               0          1               0                    1   \n",
       "1               1          0               0                    1   \n",
       "2               0          1               0                    1   \n",
       "3               0          1               0                    1   \n",
       "4               0          1               0                    1   \n",
       "\n",
       "   gender_encode  \n",
       "0              0  \n",
       "1              1  \n",
       "2              0  \n",
       "3              0  \n",
       "4              0  \n",
       "\n",
       "[5 rows x 36 columns]"
      ]
     },
     "execution_count": 16,
     "metadata": {},
     "output_type": "execute_result"
    }
   ],
   "source": [
    "rf_model=onehot_data.copy()\n",
    "rf_model['satisfaction_encode'] = rf_model['satisfaction'].apply(lambda x: 1 if x == 'satisfied'  else 0) # 1 sama dengan satisfied\n",
    "rf_model['gender_encode'] = rf_model['Gender'].apply(lambda x: 1 if x == 'Male'  else 0) # 1 sama dengan laki-laki\n",
    "rf_model.reset_index(drop=True).head()"
   ]
  },
  {
   "cell_type": "markdown",
   "metadata": {},
   "source": [
    "# Split Feature dan Label"
   ]
  },
  {
   "cell_type": "code",
   "execution_count": 17,
   "metadata": {},
   "outputs": [],
   "source": [
    "X = rf_model.drop(columns=['satisfaction','satisfaction_encode','Yes_satisfied','Yes_dissatisfied','Customer Type','Type of Travel','Class','Gender','Gender_Female','Gender_Male','Type_Loyal Customer','Type_disloyal Customer','Yes_Business travel','Yes_Personal Travel'])\n",
    "y = rf_model['satisfaction_encode'] # target / label\n",
    "\n",
    "#Splitting the data into Train and Test\n",
    "from sklearn.model_selection import train_test_split \n",
    "X_train, X_test, y_train, y_test = train_test_split(X, y, test_size = 0.3, random_state = 42)"
   ]
  },
  {
   "cell_type": "markdown",
   "metadata": {},
   "source": [
    "# RandomForestClassification"
   ]
  },
  {
   "cell_type": "code",
   "execution_count": 19,
   "metadata": {},
   "outputs": [
    {
     "name": "stdout",
     "output_type": "stream",
     "text": [
      "Accuracy (Test Set): 0.94\n",
      "Precision (Test Set): 0.96\n",
      "Recall (Test Set): 0.93\n",
      "F1-Score (Test Set): 0.94\n",
      "AUC: 0.94\n"
     ]
    }
   ],
   "source": [
    "from sklearn.ensemble import RandomForestClassifier\n",
    "rf = RandomForestClassifier(random_state=42)\n",
    "rf.fit(X_train, y_train)\n",
    "\n",
    "y_pred = rf.predict(X_test)\n",
    "eval_classification(rf, y_pred, X_train, y_train, X_test, y_test)"
   ]
  },
  {
   "cell_type": "markdown",
   "metadata": {},
   "source": [
    "# RandomForestClassification Hyperparameters Tuning"
   ]
  },
  {
   "cell_type": "code",
   "execution_count": 20,
   "metadata": {},
   "outputs": [
    {
     "name": "stdout",
     "output_type": "stream",
     "text": [
      "Accuracy (Test Set): 0.94\n",
      "Precision (Test Set): 0.96\n",
      "Recall (Test Set): 0.93\n",
      "F1-Score (Test Set): 0.94\n",
      "AUC: 0.94\n"
     ]
    }
   ],
   "source": [
    "from sklearn.model_selection import RandomizedSearchCV\n",
    "from scipy.stats import uniform\n",
    "from sklearn.ensemble import RandomForestClassifier\n",
    "\n",
    "#List Hyperparameters yang akan diuji\n",
    "hyperparameters = dict(\n",
    "                       criterion = ['gini','entropy'],\n",
    "                       max_features = ['auto', 'sqrt', 'log2'] # Jumlah feature yg dipertimbangkan pada masing-masing split\n",
    "                      )\n",
    "\n",
    "# Init\n",
    "rf = RandomForestClassifier(random_state=42)\n",
    "rf_tuned = RandomizedSearchCV(rf, hyperparameters, cv=5)\n",
    "rf_tuned.fit(X_train, y_train)\n",
    "\n",
    "# Predict & Evaluation\n",
    "y_pred = rf_tuned.predict(X_test)\n",
    "y_proba = rf_tuned.predict_proba(X_test)\n",
    "y_proba = y_proba[:,1]\n",
    "eval_classification(rf_tuned, y_pred, X_train, y_train, X_test, y_test)"
   ]
  },
  {
   "cell_type": "markdown",
   "metadata": {},
   "source": [
    "# XG Boost"
   ]
  },
  {
   "cell_type": "code",
   "execution_count": 21,
   "metadata": {},
   "outputs": [
    {
     "name": "stdout",
     "output_type": "stream",
     "text": [
      "Accuracy (Test Set): 0.95\n",
      "Precision (Test Set): 0.96\n",
      "Recall (Test Set): 0.95\n",
      "F1-Score (Test Set): 0.95\n",
      "AUC: 0.95\n"
     ]
    }
   ],
   "source": [
    "from xgboost import XGBClassifier\n",
    "xg = XGBClassifier(random_state=42, eval_metric='mlogloss')\n",
    "xg.fit(X_train, y_train)\n",
    "\n",
    "y_pred = xg.predict(X_test)\n",
    "eval_classification(xg, y_pred, X_train, y_train, X_test, y_test)"
   ]
  },
  {
   "cell_type": "markdown",
   "metadata": {},
   "source": [
    "# XGBoost feature importance"
   ]
  },
  {
   "cell_type": "code",
   "execution_count": 22,
   "metadata": {},
   "outputs": [
    {
     "data": {
      "image/png": "[encoded data removed]",
      "text/plain": [
       "<Figure size 720x576 with 1 Axes>"
      ]
     },
     "metadata": {
      "needs_background": "light"
     },
     "output_type": "display_data"
    }
   ],
   "source": [
    "show_feature_importance(xg)"
   ]
  },
  {
   "cell_type": "markdown",
   "metadata": {},
   "source": [
    "> XGBoost most importance feature :\n",
    "    - Inflight Entertainment\n",
    "    - Seat Comfort\n",
    "    - Ease of Online Booking"
   ]
  },
  {
   "cell_type": "markdown",
   "metadata": {},
   "source": [
    "# XGBoost Hyperparameters Tuning"
   ]
  },
  {
   "cell_type": "code",
   "execution_count": 23,
   "metadata": {},
   "outputs": [
    {
     "name": "stdout",
     "output_type": "stream",
     "text": [
      "Accuracy (Test Set): 0.95\n",
      "Precision (Test Set): 0.96\n",
      "Recall (Test Set): 0.95\n",
      "F1-Score (Test Set): 0.95\n",
      "AUC: 0.95\n"
     ]
    }
   ],
   "source": [
    "from sklearn.model_selection import RandomizedSearchCV, GridSearchCV\n",
    "import numpy as np\n",
    "\n",
    "#Menjadikan ke dalam bentuk dictionary\n",
    "hyperparameters = {\n",
    "                    'max_depth' : [int(x) for x in np.linspace(10, 110, num = 11)],\n",
    "                    'min_child_weight' : [int(x) for x in np.linspace(1, 20, num = 11)],\n",
    "                    'gamma' : [float(x) for x in np.linspace(0, 1, num = 11)],\n",
    "                    'tree_method' : ['auto', 'exact', 'approx', 'hist'],\n",
    "\n",
    "                    'colsample_bytree' : [float(x) for x in np.linspace(0, 1, num = 11)],\n",
    "                    'eta' : [float(x) for x in np.linspace(0, 1, num = 100)],\n",
    "\n",
    "                    'lambda' : [float(x) for x in np.linspace(0, 1, num = 11)],\n",
    "                    'alpha' : [float(x) for x in np.linspace(0, 1, num = 11)]\n",
    "                    }\n",
    "\n",
    "# Init\n",
    "xg = XGBClassifier(random_state=42, eval_metric='mlogloss')\n",
    "xg_tuned = RandomizedSearchCV(xg, hyperparameters, cv=5, random_state=42)\n",
    "xg_tuned.fit(X_train,y_train)\n",
    "\n",
    "# Predict & Evaluation\n",
    "y_pred = xg_tuned.predict(X_test)#Check performa dari model\n",
    "eval_classification(xg_tuned, y_pred, X_train, y_train, X_test, y_test)"
   ]
  },
  {
   "cell_type": "markdown",
   "metadata": {},
   "source": [
    "# Trained Score"
   ]
  },
  {
   "cell_type": "code",
   "execution_count": 24,
   "metadata": {},
   "outputs": [
    {
     "name": "stdout",
     "output_type": "stream",
     "text": [
      "Train score : 0.9973764321691482\n",
      "Test score : 0.9501226914632571\n"
     ]
    }
   ],
   "source": [
    "print('Train score : ' + str(xg_tuned.score(X_train, y_train)))\n",
    "print('Test score : ' + str(xg_tuned.score(X_test, y_test)))"
   ]
  },
  {
   "cell_type": "markdown",
   "metadata": {},
   "source": [
    "# Surveyed Feature Impact Modelling"
   ]
  },
  {
   "cell_type": "code",
   "execution_count": 25,
   "metadata": {},
   "outputs": [],
   "source": [
    "data_filter_ekonomi= df_cust_airlines_encode[df_cust_airlines_encode['Class_Eco']==1]\n",
    "data_filter_business= df_cust_airlines_encode[df_cust_airlines_encode['Class_Business']==1]\n",
    "data_filter_ecoplus= df_cust_airlines_encode[df_cust_airlines_encode['Class_Eco Plus']==1]"
   ]
  },
  {
   "cell_type": "code",
   "execution_count": 26,
   "metadata": {},
   "outputs": [],
   "source": [
    "data_test_eco=data_filter_ekonomi.copy()\n",
    "data_test_ecoplus=data_filter_ecoplus.copy()\n",
    "data_test_business=data_filter_business.copy()"
   ]
  },
  {
   "cell_type": "markdown",
   "metadata": {},
   "source": [
    "# Eco Survey Impact Modelling"
   ]
  },
  {
   "cell_type": "code",
   "execution_count": 27,
   "metadata": {},
   "outputs": [],
   "source": [
    "data_test_eco_1_rand=data_test_eco.drop(columns=['satisfaction','satisfaction_encode','Yes_satisfied','Yes_dissatisfied',\n",
    "                                            'Customer Type','Type of Travel','Class','Gender','Gender_Female','Gender_Male',\n",
    "                                            'Type_Loyal Customer','Type_disloyal Customer','Yes_Business travel','Yes_Personal Travel'])"
   ]
  },
  {
   "cell_type": "code",
   "execution_count": 28,
   "metadata": {},
   "outputs": [
    {
     "data": {
      "text/plain": [
       "3.0"
      ]
     },
     "execution_count": 28,
     "metadata": {},
     "output_type": "execute_result"
    }
   ],
   "source": [
    "data_test_eco_1_rand['Food and drink'].median()"
   ]
  },
  {
   "cell_type": "code",
   "execution_count": 29,
   "metadata": {},
   "outputs": [
    {
     "data": {
      "text/plain": [
       "3.0"
      ]
     },
     "execution_count": 29,
     "metadata": {},
     "output_type": "execute_result"
    }
   ],
   "source": [
    "data_test_eco_1_rand['Seat comfort'].median()"
   ]
  },
  {
   "cell_type": "code",
   "execution_count": 30,
   "metadata": {},
   "outputs": [
    {
     "data": {
      "text/plain": [
       "3.0"
      ]
     },
     "execution_count": 30,
     "metadata": {},
     "output_type": "execute_result"
    }
   ],
   "source": [
    "data_test_eco_1_rand['Gate location'].median()"
   ]
  },
  {
   "cell_type": "code",
   "execution_count": 31,
   "metadata": {},
   "outputs": [],
   "source": [
    "data_test_eco_1_rand['Food and drink']=data_test_eco_1_rand['Food and drink'].apply(lambda x : 4 if x < 4 else x)\n",
    "data_test_eco_1_rand['Seat comfort']=data_test_eco_1_rand['Seat comfort'].apply(lambda x : 4 if x < 4 else x)\n",
    "data_test_eco_1_rand['Gate location']=data_test_eco_1_rand['Gate location'].apply(lambda x : 4 if x < 4 else x)"
   ]
  },
  {
   "cell_type": "code",
   "execution_count": 32,
   "metadata": {},
   "outputs": [],
   "source": [
    "y_pred_eco_rand = xg_tuned.predict(data_test_eco_1_rand)#Check performa dari model\n",
    "y_proba_eco_rand = xg_tuned.predict_proba(data_test_eco_1_rand)"
   ]
  },
  {
   "cell_type": "code",
   "execution_count": 33,
   "metadata": {},
   "outputs": [],
   "source": [
    "y_pred_eco_rand=pd.DataFrame(y_pred_eco_rand.tolist())"
   ]
  },
  {
   "cell_type": "code",
   "execution_count": 34,
   "metadata": {},
   "outputs": [],
   "source": [
    "data_test_eco_2_rand=data_test_eco_1_rand.reset_index(drop=True)"
   ]
  },
  {
   "cell_type": "code",
   "execution_count": 35,
   "metadata": {},
   "outputs": [],
   "source": [
    "data_test_eco_2_rand['satisfaction']=y_pred_eco_rand"
   ]
  },
  {
   "cell_type": "code",
   "execution_count": 36,
   "metadata": {},
   "outputs": [
    {
     "data": {
      "text/plain": [
       "1    34809\n",
       "0    23460\n",
       "Name: satisfaction, dtype: int64"
      ]
     },
     "execution_count": 36,
     "metadata": {},
     "output_type": "execute_result"
    }
   ],
   "source": [
    "data_test_eco_2_rand['satisfaction'].value_counts()"
   ]
  },
  {
   "cell_type": "code",
   "execution_count": 37,
   "metadata": {},
   "outputs": [
    {
     "data": {
      "text/plain": [
       "dissatisfied    35302\n",
       "satisfied       22967\n",
       "Name: satisfaction, dtype: int64"
      ]
     },
     "execution_count": 37,
     "metadata": {},
     "output_type": "execute_result"
    }
   ],
   "source": [
    "data_test_eco['satisfaction'].value_counts()"
   ]
  },
  {
   "cell_type": "code",
   "execution_count": 38,
   "metadata": {},
   "outputs": [
    {
     "data": {
      "text/plain": [
       "51.56093525493098"
      ]
     },
     "execution_count": 38,
     "metadata": {},
     "output_type": "execute_result"
    }
   ],
   "source": [
    "((34809-22967)/22967)*100"
   ]
  },
  {
   "cell_type": "markdown",
   "metadata": {},
   "source": [
    "> Dengan mengubah 3 feature sesuai survey persentase Satisfied penumpang kelas Economy naik sebesar 51%"
   ]
  },
  {
   "cell_type": "markdown",
   "metadata": {},
   "source": [
    "# Business Survey Impact Modelling"
   ]
  },
  {
   "cell_type": "code",
   "execution_count": 39,
   "metadata": {},
   "outputs": [],
   "source": [
    "data_test_bus_1_rand=data_test_business.drop(columns=['satisfaction','satisfaction_encode','Yes_satisfied','Yes_dissatisfied',\n",
    "                                                 'Customer Type','Type of Travel','Class','Gender','Gender_Female','Gender_Male',\n",
    "                                                 'Type_Loyal Customer','Type_disloyal Customer','Yes_Business travel','Yes_Personal Travel'])"
   ]
  },
  {
   "cell_type": "code",
   "execution_count": 40,
   "metadata": {},
   "outputs": [
    {
     "data": {
      "text/plain": [
       "3.0"
      ]
     },
     "execution_count": 40,
     "metadata": {},
     "output_type": "execute_result"
    }
   ],
   "source": [
    "data_test_bus_1_rand['Seat comfort'].median()"
   ]
  },
  {
   "cell_type": "code",
   "execution_count": 41,
   "metadata": {},
   "outputs": [
    {
     "data": {
      "text/plain": [
       "3.0"
      ]
     },
     "execution_count": 41,
     "metadata": {},
     "output_type": "execute_result"
    }
   ],
   "source": [
    "data_test_bus_1_rand['Departure/Arrival time convenient'].median()"
   ]
  },
  {
   "cell_type": "code",
   "execution_count": 42,
   "metadata": {},
   "outputs": [
    {
     "data": {
      "text/plain": [
       "3.0"
      ]
     },
     "execution_count": 42,
     "metadata": {},
     "output_type": "execute_result"
    }
   ],
   "source": [
    "data_test_bus_1_rand['Food and drink'].median()"
   ]
  },
  {
   "cell_type": "code",
   "execution_count": 43,
   "metadata": {},
   "outputs": [],
   "source": [
    "data_test_bus_1_rand['Seat comfort']=data_test_bus_1_rand['Seat comfort'].apply(lambda x : 4 if x < 4 else x)\n",
    "data_test_bus_1_rand['Departure/Arrival time convenient']=data_test_bus_1_rand['Departure/Arrival time convenient'].apply(lambda x : 4 if x < 4 else x)\n",
    "data_test_bus_1_rand['Food and drink']=data_test_bus_1_rand['Food and drink'].apply(lambda x : 4 if x < 4 else x)"
   ]
  },
  {
   "cell_type": "code",
   "execution_count": 44,
   "metadata": {},
   "outputs": [],
   "source": [
    "y_pred_bus_rand = xg_tuned.predict(data_test_bus_1_rand)#Check performa dari model\n",
    "y_proba_bus_rand = xg_tuned.predict_proba(data_test_bus_1_rand)"
   ]
  },
  {
   "cell_type": "code",
   "execution_count": 45,
   "metadata": {},
   "outputs": [],
   "source": [
    "y_pred_bus_rand=pd.DataFrame(y_pred_bus_rand.tolist())"
   ]
  },
  {
   "cell_type": "code",
   "execution_count": 46,
   "metadata": {},
   "outputs": [],
   "source": [
    "data_test_bus_2_rand=data_test_bus_1_rand.reset_index(drop=True)"
   ]
  },
  {
   "cell_type": "code",
   "execution_count": 47,
   "metadata": {},
   "outputs": [],
   "source": [
    "data_test_bus_2_rand['satisfaction']=y_pred_bus_rand"
   ]
  },
  {
   "cell_type": "code",
   "execution_count": 48,
   "metadata": {},
   "outputs": [
    {
     "data": {
      "text/plain": [
       "1    45715\n",
       "0    15663\n",
       "Name: satisfaction, dtype: int64"
      ]
     },
     "execution_count": 48,
     "metadata": {},
     "output_type": "execute_result"
    }
   ],
   "source": [
    "data_test_bus_2_rand['satisfaction'].value_counts()"
   ]
  },
  {
   "cell_type": "code",
   "execution_count": 49,
   "metadata": {},
   "outputs": [
    {
     "data": {
      "text/plain": [
       "satisfied       43563\n",
       "dissatisfied    17815\n",
       "Name: satisfaction, dtype: int64"
      ]
     },
     "execution_count": 49,
     "metadata": {},
     "output_type": "execute_result"
    }
   ],
   "source": [
    "data_test_business['satisfaction'].value_counts()"
   ]
  },
  {
   "cell_type": "code",
   "execution_count": 50,
   "metadata": {},
   "outputs": [
    {
     "data": {
      "text/plain": [
       "4.939971994582558"
      ]
     },
     "execution_count": 50,
     "metadata": {},
     "output_type": "execute_result"
    }
   ],
   "source": [
    "((45715-43563)/43563)*100"
   ]
  },
  {
   "cell_type": "markdown",
   "metadata": {},
   "source": [
    "> Dengan mengubah 3 feature sesuai survey persentase Satisfied penumpang kelas Business naik sebesar 4.9%"
   ]
  },
  {
   "cell_type": "markdown",
   "metadata": {},
   "source": [
    "# Eco Plus Survey Impact Modelling"
   ]
  },
  {
   "cell_type": "code",
   "execution_count": 51,
   "metadata": {},
   "outputs": [],
   "source": [
    "data_test_ecoplus_1_rand=data_test_ecoplus.drop(columns=['satisfaction','satisfaction_encode','Yes_satisfied','Yes_dissatisfied',\n",
    "                                                    'Customer Type','Type of Travel','Class','Gender','Gender_Female','Gender_Male',\n",
    "                                                    'Type_Loyal Customer','Type_disloyal Customer','Yes_Business travel','Yes_Personal Travel'])"
   ]
  },
  {
   "cell_type": "code",
   "execution_count": 52,
   "metadata": {},
   "outputs": [
    {
     "data": {
      "text/plain": [
       "3.0"
      ]
     },
     "execution_count": 52,
     "metadata": {},
     "output_type": "execute_result"
    }
   ],
   "source": [
    "data_test_ecoplus_1_rand['Food and drink'].median()"
   ]
  },
  {
   "cell_type": "code",
   "execution_count": 53,
   "metadata": {},
   "outputs": [
    {
     "data": {
      "text/plain": [
       "3.0"
      ]
     },
     "execution_count": 53,
     "metadata": {},
     "output_type": "execute_result"
    }
   ],
   "source": [
    "data_test_ecoplus_1_rand['Seat comfort'].median()"
   ]
  },
  {
   "cell_type": "code",
   "execution_count": 54,
   "metadata": {},
   "outputs": [
    {
     "data": {
      "text/plain": [
       "3.0"
      ]
     },
     "execution_count": 54,
     "metadata": {},
     "output_type": "execute_result"
    }
   ],
   "source": [
    "data_test_ecoplus_1_rand['Gate location'].median()"
   ]
  },
  {
   "cell_type": "code",
   "execution_count": 55,
   "metadata": {},
   "outputs": [],
   "source": [
    "data_test_ecoplus_1_rand['Food and drink']=data_test_ecoplus_1_rand['Food and drink'].apply(lambda x : 4 if x < 4 else x)\n",
    "data_test_ecoplus_1_rand['Seat comfort']=data_test_ecoplus_1_rand['Seat comfort'].apply(lambda x : 4 if x < 4 else x)\n",
    "data_test_ecoplus_1_rand['Gate location']=data_test_ecoplus_1_rand['Gate location'].apply(lambda x : 4 if x < 4 else x)"
   ]
  },
  {
   "cell_type": "code",
   "execution_count": 56,
   "metadata": {},
   "outputs": [],
   "source": [
    "y_pred_ecoplus_rand = xg_tuned.predict(data_test_ecoplus_1_rand)#Check performa dari model\n",
    "y_proba_ecoplus_rand = xg_tuned.predict_proba(data_test_ecoplus_1_rand)"
   ]
  },
  {
   "cell_type": "code",
   "execution_count": 57,
   "metadata": {},
   "outputs": [],
   "source": [
    "y_pred_ecoplus_rand=pd.DataFrame(y_pred_ecoplus_rand.tolist())"
   ]
  },
  {
   "cell_type": "code",
   "execution_count": 58,
   "metadata": {},
   "outputs": [],
   "source": [
    "data_test_ecoplus_2_rand=data_test_ecoplus_1_rand.reset_index(drop=True)"
   ]
  },
  {
   "cell_type": "code",
   "execution_count": 59,
   "metadata": {},
   "outputs": [],
   "source": [
    "data_test_ecoplus_2_rand['satisfaction']=y_pred_ecoplus_rand"
   ]
  },
  {
   "cell_type": "code",
   "execution_count": 60,
   "metadata": {},
   "outputs": [
    {
     "data": {
      "text/plain": [
       "1    5166\n",
       "0    4237\n",
       "Name: satisfaction, dtype: int64"
      ]
     },
     "execution_count": 60,
     "metadata": {},
     "output_type": "execute_result"
    }
   ],
   "source": [
    "data_test_ecoplus_2_rand['satisfaction'].value_counts()"
   ]
  },
  {
   "cell_type": "code",
   "execution_count": 61,
   "metadata": {},
   "outputs": [
    {
     "data": {
      "text/plain": [
       "dissatisfied    5387\n",
       "satisfied       4016\n",
       "Name: satisfaction, dtype: int64"
      ]
     },
     "execution_count": 61,
     "metadata": {},
     "output_type": "execute_result"
    }
   ],
   "source": [
    "data_test_ecoplus['satisfaction'].value_counts()"
   ]
  },
  {
   "cell_type": "code",
   "execution_count": 62,
   "metadata": {},
   "outputs": [
    {
     "data": {
      "text/plain": [
       "28.63545816733068"
      ]
     },
     "execution_count": 62,
     "metadata": {},
     "output_type": "execute_result"
    }
   ],
   "source": [
    "((5166-4016)/4016)*100"
   ]
  },
  {
   "cell_type": "markdown",
   "metadata": {},
   "source": [
    "> Dengan mengubah 3 feature sesuai survey persentase Satisfied penumpang kelas Eco Plus naik sebesar 28%"
   ]
  },
  {
   "cell_type": "markdown",
   "metadata": {},
   "source": [
    "# Conclusion"
   ]
  },
  {
   "cell_type": "markdown",
   "metadata": {},
   "source": [
    "> Dengan mengubah 3 feature sesuai survey per kelas persentase Satisfied pada penumpang naik sebesar :\n",
    "    - Kelas Eco naik sebesar 51%\n",
    "    - Kelas Business naik sebesar 28%\n",
    "    - Kelas Eco Plus naik sebesar 4.9%"
   ]
  },
  {
   "cell_type": "code",
   "execution_count": null,
   "metadata": {},
   "outputs": [],
   "source": []
  }
 ],
 "metadata": {
  "kernelspec": {
   "display_name": "Python 3 (ipykernel)",
   "language": "python",
   "name": "python3"
  },
  "language_info": {
   "codemirror_mode": {
    "name": "ipython",
    "version": 3
   },
   "file_extension": ".py",
   "mimetype": "text/x-python",
   "name": "python",
   "nbconvert_exporter": "python",
   "pygments_lexer": "ipython3",
   "version": "3.7.3"
  }
 },
 "nbformat": 4,
 "nbformat_minor": 2
}
